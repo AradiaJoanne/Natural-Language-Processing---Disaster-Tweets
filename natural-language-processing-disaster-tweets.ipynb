{
 "cells": [
  {
   "cell_type": "markdown",
   "id": "b4180fdd",
   "metadata": {
    "papermill": {
     "duration": 0.037151,
     "end_time": "2022-06-14T15:12:52.762484",
     "exception": false,
     "start_time": "2022-06-14T15:12:52.725333",
     "status": "completed"
    },
    "tags": []
   },
   "source": [
    "# Natural Language Processing: Disaster Tweets - EDA WIP"
   ]
  },
  {
   "cell_type": "markdown",
   "id": "98f5eced",
   "metadata": {
    "papermill": {
     "duration": 0.025624,
     "end_time": "2022-06-14T15:12:52.817006",
     "exception": false,
     "start_time": "2022-06-14T15:12:52.791382",
     "status": "completed"
    },
    "tags": []
   },
   "source": [
    "# Introduction <br>\n",
    "The aim of this notebook is to be able to classify tweets into two categories, tweets that are about actual disasters and tweets that are not about disasters. This will be done using NLP and machine learning, on a dataset of 10,000 tweets. \n",
    "\n",
    "**DISCLAIMER: SOME TWEETS MAY CONTAIN EXPLICIT LANGUAGE**\n",
    "\n",
    "**What is NLP?**<br>\n",
    "\n",
    "NLP stands for Natural Language Processing, this is defined by the Oxford Languages Dictionary as 'The application of computational techniques to the analysis and synthesis of natural language and speech'. Natural language is the way humans talk to each other through things such as text and speech.<br>\n",
    "Language can be incredibly difficult, it is a thing that takes each one of us years to learn and even then we often make mistakes throughout our lives. NLP as a tool is very powerful but it faces many limitations and problems; such as the ability to understand context, sarcasm, errors in the text, slang, and ambiguity. This can have an impact on how our models may decide the outcome of the tweet so we can already predict that it will make some mistakes when trying to predict the outcome. "
   ]
  },
  {
   "cell_type": "markdown",
   "id": "6402ff16",
   "metadata": {
    "papermill": {
     "duration": 0.025846,
     "end_time": "2022-06-14T15:12:52.869057",
     "exception": false,
     "start_time": "2022-06-14T15:12:52.843211",
     "status": "completed"
    },
    "tags": []
   },
   "source": [
    "## Let's get started! \n",
    "\n",
    "The first steps like in every project are to import our libraries and then read in our data. "
   ]
  },
  {
   "cell_type": "code",
   "execution_count": 1,
   "id": "f3aebae0",
   "metadata": {
    "execution": {
     "iopub.execute_input": "2022-06-14T15:12:52.935364Z",
     "iopub.status.busy": "2022-06-14T15:12:52.934721Z",
     "iopub.status.idle": "2022-06-14T15:13:55.246848Z",
     "shell.execute_reply": "2022-06-14T15:13:55.247466Z",
     "shell.execute_reply.started": "2022-06-08T12:54:18.029997Z"
    },
    "papermill": {
     "duration": 62.352284,
     "end_time": "2022-06-14T15:13:55.248056",
     "exception": false,
     "start_time": "2022-06-14T15:12:52.895772",
     "status": "completed"
    },
    "tags": []
   },
   "outputs": [
    {
     "name": "stdout",
     "output_type": "stream",
     "text": [
      "Collecting pyspellchecker\r\n",
      "  Downloading pyspellchecker-0.6.3-py3-none-any.whl (2.7 MB)\r\n",
      "\u001b[K     |████████████████████████████████| 2.7 MB 885 kB/s \r\n",
      "\u001b[?25hInstalling collected packages: pyspellchecker\r\n",
      "Successfully installed pyspellchecker-0.6.3\r\n",
      "\u001b[33mWARNING: Running pip as the 'root' user can result in broken permissions and conflicting behaviour with the system package manager. It is recommended to use a virtual environment instead: https://pip.pypa.io/warnings/venv\u001b[0m\r\n",
      "Collecting keras\r\n",
      "  Downloading keras-2.9.0-py2.py3-none-any.whl (1.6 MB)\r\n",
      "\u001b[K     |████████████████████████████████| 1.6 MB 883 kB/s \r\n",
      "\u001b[?25hInstalling collected packages: keras\r\n",
      "Successfully installed keras-2.9.0\r\n",
      "\u001b[33mWARNING: Running pip as the 'root' user can result in broken permissions and conflicting behaviour with the system package manager. It is recommended to use a virtual environment instead: https://pip.pypa.io/warnings/venv\u001b[0m\r\n",
      "Collecting tensorflow-cpu==2.1.0\r\n",
      "  Downloading tensorflow_cpu-2.1.0-cp37-cp37m-manylinux2010_x86_64.whl (104.6 MB)\r\n",
      "\u001b[K     |████████████████████████████████| 104.6 MB 29 kB/s \r\n",
      "\u001b[?25hRequirement already satisfied: google-pasta>=0.1.6 in /opt/conda/lib/python3.7/site-packages (from tensorflow-cpu==2.1.0) (0.2.0)\r\n",
      "Requirement already satisfied: wrapt>=1.11.1 in /opt/conda/lib/python3.7/site-packages (from tensorflow-cpu==2.1.0) (1.12.1)\r\n",
      "Requirement already satisfied: six>=1.12.0 in /opt/conda/lib/python3.7/site-packages (from tensorflow-cpu==2.1.0) (1.15.0)\r\n",
      "Collecting scipy==1.4.1\r\n",
      "  Downloading scipy-1.4.1-cp37-cp37m-manylinux1_x86_64.whl (26.1 MB)\r\n",
      "\u001b[K     |████████████████████████████████| 26.1 MB 36.8 MB/s \r\n",
      "\u001b[?25hRequirement already satisfied: keras-preprocessing>=1.1.0 in /opt/conda/lib/python3.7/site-packages (from tensorflow-cpu==2.1.0) (1.1.2)\r\n",
      "Collecting tensorflow-estimator<2.2.0,>=2.1.0rc0\r\n",
      "  Downloading tensorflow_estimator-2.1.0-py2.py3-none-any.whl (448 kB)\r\n",
      "\u001b[K     |████████████████████████████████| 448 kB 63.9 MB/s \r\n",
      "\u001b[?25hCollecting keras-applications>=1.0.8\r\n",
      "  Downloading Keras_Applications-1.0.8-py3-none-any.whl (50 kB)\r\n",
      "\u001b[K     |████████████████████████████████| 50 kB 3.7 MB/s \r\n",
      "\u001b[?25hCollecting tensorboard<2.2.0,>=2.1.0\r\n",
      "  Downloading tensorboard-2.1.1-py3-none-any.whl (3.8 MB)\r\n",
      "\u001b[K     |████████████████████████████████| 3.8 MB 48.1 MB/s \r\n",
      "\u001b[?25hCollecting gast==0.2.2\r\n",
      "  Downloading gast-0.2.2.tar.gz (10 kB)\r\n",
      "Requirement already satisfied: wheel>=0.26 in /opt/conda/lib/python3.7/site-packages (from tensorflow-cpu==2.1.0) (0.37.0)\r\n",
      "Requirement already satisfied: numpy<2.0,>=1.16.0 in /opt/conda/lib/python3.7/site-packages (from tensorflow-cpu==2.1.0) (1.19.5)\r\n",
      "Requirement already satisfied: termcolor>=1.1.0 in /opt/conda/lib/python3.7/site-packages (from tensorflow-cpu==2.1.0) (1.1.0)\r\n",
      "Requirement already satisfied: grpcio>=1.8.6 in /opt/conda/lib/python3.7/site-packages (from tensorflow-cpu==2.1.0) (1.32.0)\r\n",
      "Collecting astor>=0.6.0\r\n",
      "  Downloading astor-0.8.1-py2.py3-none-any.whl (27 kB)\r\n",
      "Requirement already satisfied: opt-einsum>=2.3.2 in /opt/conda/lib/python3.7/site-packages (from tensorflow-cpu==2.1.0) (3.3.0)\r\n",
      "Requirement already satisfied: protobuf>=3.8.0 in /opt/conda/lib/python3.7/site-packages (from tensorflow-cpu==2.1.0) (3.18.0)\r\n",
      "Requirement already satisfied: absl-py>=0.7.0 in /opt/conda/lib/python3.7/site-packages (from tensorflow-cpu==2.1.0) (0.12.0)\r\n",
      "Requirement already satisfied: h5py in /opt/conda/lib/python3.7/site-packages (from keras-applications>=1.0.8->tensorflow-cpu==2.1.0) (2.10.0)\r\n",
      "Requirement already satisfied: setuptools>=41.0.0 in /opt/conda/lib/python3.7/site-packages (from tensorboard<2.2.0,>=2.1.0->tensorflow-cpu==2.1.0) (57.4.0)\r\n",
      "Requirement already satisfied: google-auth<2,>=1.6.3 in /opt/conda/lib/python3.7/site-packages (from tensorboard<2.2.0,>=2.1.0->tensorflow-cpu==2.1.0) (1.34.0)\r\n",
      "Requirement already satisfied: markdown>=2.6.8 in /opt/conda/lib/python3.7/site-packages (from tensorboard<2.2.0,>=2.1.0->tensorflow-cpu==2.1.0) (3.3.4)\r\n",
      "Requirement already satisfied: werkzeug>=0.11.15 in /opt/conda/lib/python3.7/site-packages (from tensorboard<2.2.0,>=2.1.0->tensorflow-cpu==2.1.0) (2.0.1)\r\n",
      "Requirement already satisfied: requests<3,>=2.21.0 in /opt/conda/lib/python3.7/site-packages (from tensorboard<2.2.0,>=2.1.0->tensorflow-cpu==2.1.0) (2.25.1)\r\n",
      "Requirement already satisfied: google-auth-oauthlib<0.5,>=0.4.1 in /opt/conda/lib/python3.7/site-packages (from tensorboard<2.2.0,>=2.1.0->tensorflow-cpu==2.1.0) (0.4.5)\r\n",
      "Requirement already satisfied: cachetools<5.0,>=2.0.0 in /opt/conda/lib/python3.7/site-packages (from google-auth<2,>=1.6.3->tensorboard<2.2.0,>=2.1.0->tensorflow-cpu==2.1.0) (4.2.2)\r\n",
      "Requirement already satisfied: rsa<5,>=3.1.4 in /opt/conda/lib/python3.7/site-packages (from google-auth<2,>=1.6.3->tensorboard<2.2.0,>=2.1.0->tensorflow-cpu==2.1.0) (4.7.2)\r\n",
      "Requirement already satisfied: pyasn1-modules>=0.2.1 in /opt/conda/lib/python3.7/site-packages (from google-auth<2,>=1.6.3->tensorboard<2.2.0,>=2.1.0->tensorflow-cpu==2.1.0) (0.2.7)\r\n",
      "Requirement already satisfied: requests-oauthlib>=0.7.0 in /opt/conda/lib/python3.7/site-packages (from google-auth-oauthlib<0.5,>=0.4.1->tensorboard<2.2.0,>=2.1.0->tensorflow-cpu==2.1.0) (1.3.0)\r\n",
      "Requirement already satisfied: importlib-metadata in /opt/conda/lib/python3.7/site-packages (from markdown>=2.6.8->tensorboard<2.2.0,>=2.1.0->tensorflow-cpu==2.1.0) (3.4.0)\r\n",
      "Requirement already satisfied: pyasn1<0.5.0,>=0.4.6 in /opt/conda/lib/python3.7/site-packages (from pyasn1-modules>=0.2.1->google-auth<2,>=1.6.3->tensorboard<2.2.0,>=2.1.0->tensorflow-cpu==2.1.0) (0.4.8)\r\n",
      "Requirement already satisfied: idna<3,>=2.5 in /opt/conda/lib/python3.7/site-packages (from requests<3,>=2.21.0->tensorboard<2.2.0,>=2.1.0->tensorflow-cpu==2.1.0) (2.10)\r\n",
      "Requirement already satisfied: certifi>=2017.4.17 in /opt/conda/lib/python3.7/site-packages (from requests<3,>=2.21.0->tensorboard<2.2.0,>=2.1.0->tensorflow-cpu==2.1.0) (2021.5.30)\r\n",
      "Requirement already satisfied: chardet<5,>=3.0.2 in /opt/conda/lib/python3.7/site-packages (from requests<3,>=2.21.0->tensorboard<2.2.0,>=2.1.0->tensorflow-cpu==2.1.0) (4.0.0)\r\n",
      "Requirement already satisfied: urllib3<1.27,>=1.21.1 in /opt/conda/lib/python3.7/site-packages (from requests<3,>=2.21.0->tensorboard<2.2.0,>=2.1.0->tensorflow-cpu==2.1.0) (1.26.6)\r\n",
      "Requirement already satisfied: oauthlib>=3.0.0 in /opt/conda/lib/python3.7/site-packages (from requests-oauthlib>=0.7.0->google-auth-oauthlib<0.5,>=0.4.1->tensorboard<2.2.0,>=2.1.0->tensorflow-cpu==2.1.0) (3.1.1)\r\n",
      "Requirement already satisfied: typing-extensions>=3.6.4 in /opt/conda/lib/python3.7/site-packages (from importlib-metadata->markdown>=2.6.8->tensorboard<2.2.0,>=2.1.0->tensorflow-cpu==2.1.0) (3.7.4.3)\r\n",
      "Requirement already satisfied: zipp>=0.5 in /opt/conda/lib/python3.7/site-packages (from importlib-metadata->markdown>=2.6.8->tensorboard<2.2.0,>=2.1.0->tensorflow-cpu==2.1.0) (3.5.0)\r\n",
      "Building wheels for collected packages: gast\r\n",
      "  Building wheel for gast (setup.py) ... \u001b[?25l-\b \b\\\b \bdone\r\n",
      "\u001b[?25h  Created wheel for gast: filename=gast-0.2.2-py3-none-any.whl size=7554 sha256=608c64275c4d8943e7962d923ef5786139363656ce7fd80bcbe06bcb9e4627c6\r\n",
      "  Stored in directory: /root/.cache/pip/wheels/21/7f/02/420f32a803f7d0967b48dd823da3f558c5166991bfd204eef3\r\n",
      "Successfully built gast\r\n",
      "Installing collected packages: tensorflow-estimator, tensorboard, scipy, keras-applications, gast, astor, tensorflow-cpu\r\n",
      "  Attempting uninstall: tensorflow-estimator\r\n",
      "    Found existing installation: tensorflow-estimator 2.4.0\r\n",
      "    Uninstalling tensorflow-estimator-2.4.0:\r\n",
      "      Successfully uninstalled tensorflow-estimator-2.4.0\r\n",
      "  Attempting uninstall: tensorboard\r\n",
      "    Found existing installation: tensorboard 2.6.0\r\n",
      "    Uninstalling tensorboard-2.6.0:\r\n",
      "      Successfully uninstalled tensorboard-2.6.0\r\n",
      "  Attempting uninstall: scipy\r\n",
      "    Found existing installation: scipy 1.7.1\r\n",
      "    Uninstalling scipy-1.7.1:\r\n",
      "      Successfully uninstalled scipy-1.7.1\r\n",
      "  Attempting uninstall: gast\r\n",
      "    Found existing installation: gast 0.3.3\r\n",
      "    Uninstalling gast-0.3.3:\r\n",
      "      Successfully uninstalled gast-0.3.3\r\n",
      "\u001b[31mERROR: pip's dependency resolver does not currently take into account all the packages that are installed. This behaviour is the source of the following dependency conflicts.\r\n",
      "tensorflow 2.4.1 requires gast==0.3.3, but you have gast 0.2.2 which is incompatible.\r\n",
      "tensorflow 2.4.1 requires tensorboard~=2.4, but you have tensorboard 2.1.1 which is incompatible.\r\n",
      "tensorflow 2.4.1 requires tensorflow-estimator<2.5.0,>=2.4.0, but you have tensorflow-estimator 2.1.0 which is incompatible.\r\n",
      "tensorflow-probability 0.12.2 requires gast>=0.3.2, but you have gast 0.2.2 which is incompatible.\r\n",
      "tensorflow-cloud 0.1.13 requires tensorboard>=2.3.0, but you have tensorboard 2.1.1 which is incompatible.\r\n",
      "stumpy 1.9.2 requires scipy>=1.5, but you have scipy 1.4.1 which is incompatible.\r\n",
      "sklearn-pandas 2.2.0 requires scipy>=1.5.1, but you have scipy 1.4.1 which is incompatible.\r\n",
      "pytorch-lightning 1.4.4 requires tensorboard>=2.2.0, but you have tensorboard 2.1.1 which is incompatible.\r\n",
      "plotnine 0.8.0 requires scipy>=1.5.0, but you have scipy 1.4.1 which is incompatible.\r\n",
      "phik 0.11.2 requires scipy>=1.5.2, but you have scipy 1.4.1 which is incompatible.\r\n",
      "pdpbox 0.2.1 requires matplotlib==3.1.1, but you have matplotlib 3.4.3 which is incompatible.\r\n",
      "matrixprofile 1.1.10 requires protobuf==3.11.2, but you have protobuf 3.18.0 which is incompatible.\r\n",
      "imbalanced-learn 0.8.0 requires scikit-learn>=0.24, but you have scikit-learn 0.23.2 which is incompatible.\u001b[0m\r\n",
      "Successfully installed astor-0.8.1 gast-0.2.2 keras-applications-1.0.8 scipy-1.4.1 tensorboard-2.1.1 tensorflow-cpu-2.1.0 tensorflow-estimator-2.1.0\r\n",
      "\u001b[33mWARNING: Running pip as the 'root' user can result in broken permissions and conflicting behaviour with the system package manager. It is recommended to use a virtual environment instead: https://pip.pypa.io/warnings/venv\u001b[0m\r\n",
      "Requirement already satisfied: pyspellchecker in /opt/conda/lib/python3.7/site-packages (0.6.3)\r\n",
      "\u001b[33mWARNING: Running pip as the 'root' user can result in broken permissions and conflicting behaviour with the system package manager. It is recommended to use a virtual environment instead: https://pip.pypa.io/warnings/venv\u001b[0m\r\n"
     ]
    }
   ],
   "source": [
    "# Install Libs\n",
    "!pip install pyspellchecker\n",
    "!pip install keras\n",
    "!pip install tensorflow-cpu==2.1.0 #No GPU :'(\n",
    "!pip install pyspellchecker"
   ]
  },
  {
   "cell_type": "code",
   "execution_count": 2,
   "id": "8386d62b",
   "metadata": {
    "execution": {
     "iopub.execute_input": "2022-06-14T15:13:55.562288Z",
     "iopub.status.busy": "2022-06-14T15:13:55.560983Z",
     "iopub.status.idle": "2022-06-14T15:14:05.504659Z",
     "shell.execute_reply": "2022-06-14T15:14:05.503072Z",
     "shell.execute_reply.started": "2022-06-08T12:55:18.755167Z"
    },
    "papermill": {
     "duration": 10.109365,
     "end_time": "2022-06-14T15:14:05.505243",
     "exception": false,
     "start_time": "2022-06-14T15:13:55.395878",
     "status": "completed"
    },
    "tags": []
   },
   "outputs": [],
   "source": [
    "# Import Libraries \n",
    "import io \n",
    "import re\n",
    "import string \n",
    "import unicodedata\n",
    "import spacy \n",
    "import matplotlib\n",
    "import torch\n",
    "\n",
    "import pandas as pd\n",
    "import numpy as np\n",
    "import seaborn as sns\n",
    "import matplotlib.pyplot as plt\n",
    "\n",
    "from bs4 import BeautifulSoup\n",
    "from nltk.corpus import stopwords\n",
    "from nltk.tokenize import word_tokenize\n",
    "from nltk.probability import FreqDist\n",
    "\n",
    "from sklearn import metrics\n",
    "from sklearn.feature_extraction.text import TfidfVectorizer\n",
    "from sklearn.feature_extraction.text import CountVectorizer\n",
    "from sklearn.model_selection import train_test_split\n",
    "from sklearn.decomposition import PCA\n",
    "from sklearn.decomposition import TruncatedSVD\n",
    "from sklearn.metrics import classification_report\n",
    "from sklearn.metrics import confusion_matrix\n",
    "from sklearn.tree import DecisionTreeClassifier \n",
    "from sklearn.linear_model import LogisticRegression\n",
    "from sklearn.linear_model import SGDClassifier\n",
    "from sklearn.naive_bayes import MultinomialNB\n",
    "\n",
    "from tensorflow.keras.models import Sequential\n",
    "from tensorflow.keras.layers import Embedding\n",
    "from tensorflow.keras.layers import LSTM\n",
    "from tensorflow.keras.layers import Dense\n",
    "from tensorflow.keras.layers import SpatialDropout1D\n",
    "from tensorflow.keras.layers import Dropout\n",
    "from tensorflow.keras.optimizers import Adam\n",
    "\n",
    "from tqdm import tqdm\n",
    "from spellchecker import SpellChecker\n",
    "from wordcloud import WordCloud\n",
    "from IPython.display import display"
   ]
  },
  {
   "cell_type": "markdown",
   "id": "c93079bc",
   "metadata": {
    "papermill": {
     "duration": 0.278906,
     "end_time": "2022-06-14T15:14:06.035086",
     "exception": false,
     "start_time": "2022-06-14T15:14:05.756180",
     "status": "completed"
    },
    "tags": []
   },
   "source": [
    "Now we need to read in our dataset and store it in a dataframe so we can easily access and manipulate it. "
   ]
  },
  {
   "cell_type": "code",
   "execution_count": 3,
   "id": "177c5ef2",
   "metadata": {
    "execution": {
     "iopub.execute_input": "2022-06-14T15:14:06.559511Z",
     "iopub.status.busy": "2022-06-14T15:14:06.558515Z",
     "iopub.status.idle": "2022-06-14T15:14:06.676495Z",
     "shell.execute_reply": "2022-06-14T15:14:06.675899Z",
     "shell.execute_reply.started": "2022-06-08T12:55:25.067121Z"
    },
    "papermill": {
     "duration": 0.380502,
     "end_time": "2022-06-14T15:14:06.676651",
     "exception": false,
     "start_time": "2022-06-14T15:14:06.296149",
     "status": "completed"
    },
    "tags": []
   },
   "outputs": [],
   "source": [
    "# Read in Data\n",
    "tweets = pd.read_csv('../input/nlp-getting-started/train.csv')\n",
    "test = pd.read_csv('../input/nlp-getting-started/test.csv')"
   ]
  },
  {
   "cell_type": "code",
   "execution_count": 4,
   "id": "dc4bc539",
   "metadata": {
    "execution": {
     "iopub.execute_input": "2022-06-14T15:14:06.924978Z",
     "iopub.status.busy": "2022-06-14T15:14:06.924217Z",
     "iopub.status.idle": "2022-06-14T15:14:06.952421Z",
     "shell.execute_reply": "2022-06-14T15:14:06.952952Z",
     "shell.execute_reply.started": "2022-06-08T12:55:25.139502Z"
    },
    "papermill": {
     "duration": 0.152181,
     "end_time": "2022-06-14T15:14:06.953131",
     "exception": false,
     "start_time": "2022-06-14T15:14:06.800950",
     "status": "completed"
    },
    "tags": []
   },
   "outputs": [
    {
     "data": {
      "text/html": [
       "<div>\n",
       "<style scoped>\n",
       "    .dataframe tbody tr th:only-of-type {\n",
       "        vertical-align: middle;\n",
       "    }\n",
       "\n",
       "    .dataframe tbody tr th {\n",
       "        vertical-align: top;\n",
       "    }\n",
       "\n",
       "    .dataframe thead th {\n",
       "        text-align: right;\n",
       "    }\n",
       "</style>\n",
       "<table border=\"1\" class=\"dataframe\">\n",
       "  <thead>\n",
       "    <tr style=\"text-align: right;\">\n",
       "      <th></th>\n",
       "      <th>id</th>\n",
       "      <th>keyword</th>\n",
       "      <th>location</th>\n",
       "      <th>text</th>\n",
       "    </tr>\n",
       "  </thead>\n",
       "  <tbody>\n",
       "    <tr>\n",
       "      <th>0</th>\n",
       "      <td>0</td>\n",
       "      <td>NaN</td>\n",
       "      <td>NaN</td>\n",
       "      <td>Just happened a terrible car crash</td>\n",
       "    </tr>\n",
       "    <tr>\n",
       "      <th>1</th>\n",
       "      <td>2</td>\n",
       "      <td>NaN</td>\n",
       "      <td>NaN</td>\n",
       "      <td>Heard about #earthquake is different cities, s...</td>\n",
       "    </tr>\n",
       "    <tr>\n",
       "      <th>2</th>\n",
       "      <td>3</td>\n",
       "      <td>NaN</td>\n",
       "      <td>NaN</td>\n",
       "      <td>there is a forest fire at spot pond, geese are...</td>\n",
       "    </tr>\n",
       "    <tr>\n",
       "      <th>3</th>\n",
       "      <td>9</td>\n",
       "      <td>NaN</td>\n",
       "      <td>NaN</td>\n",
       "      <td>Apocalypse lighting. #Spokane #wildfires</td>\n",
       "    </tr>\n",
       "    <tr>\n",
       "      <th>4</th>\n",
       "      <td>11</td>\n",
       "      <td>NaN</td>\n",
       "      <td>NaN</td>\n",
       "      <td>Typhoon Soudelor kills 28 in China and Taiwan</td>\n",
       "    </tr>\n",
       "    <tr>\n",
       "      <th>5</th>\n",
       "      <td>12</td>\n",
       "      <td>NaN</td>\n",
       "      <td>NaN</td>\n",
       "      <td>We're shaking...It's an earthquake</td>\n",
       "    </tr>\n",
       "    <tr>\n",
       "      <th>6</th>\n",
       "      <td>21</td>\n",
       "      <td>NaN</td>\n",
       "      <td>NaN</td>\n",
       "      <td>They'd probably still show more life than Arse...</td>\n",
       "    </tr>\n",
       "    <tr>\n",
       "      <th>7</th>\n",
       "      <td>22</td>\n",
       "      <td>NaN</td>\n",
       "      <td>NaN</td>\n",
       "      <td>Hey! How are you?</td>\n",
       "    </tr>\n",
       "    <tr>\n",
       "      <th>8</th>\n",
       "      <td>27</td>\n",
       "      <td>NaN</td>\n",
       "      <td>NaN</td>\n",
       "      <td>What a nice hat?</td>\n",
       "    </tr>\n",
       "    <tr>\n",
       "      <th>9</th>\n",
       "      <td>29</td>\n",
       "      <td>NaN</td>\n",
       "      <td>NaN</td>\n",
       "      <td>Fuck off!</td>\n",
       "    </tr>\n",
       "  </tbody>\n",
       "</table>\n",
       "</div>"
      ],
      "text/plain": [
       "   id keyword location                                               text\n",
       "0   0     NaN      NaN                 Just happened a terrible car crash\n",
       "1   2     NaN      NaN  Heard about #earthquake is different cities, s...\n",
       "2   3     NaN      NaN  there is a forest fire at spot pond, geese are...\n",
       "3   9     NaN      NaN           Apocalypse lighting. #Spokane #wildfires\n",
       "4  11     NaN      NaN      Typhoon Soudelor kills 28 in China and Taiwan\n",
       "5  12     NaN      NaN                 We're shaking...It's an earthquake\n",
       "6  21     NaN      NaN  They'd probably still show more life than Arse...\n",
       "7  22     NaN      NaN                                  Hey! How are you?\n",
       "8  27     NaN      NaN                                   What a nice hat?\n",
       "9  29     NaN      NaN                                          Fuck off!"
      ]
     },
     "execution_count": 4,
     "metadata": {},
     "output_type": "execute_result"
    }
   ],
   "source": [
    "# Let's take a look at what the data looks like \n",
    "tweets.head(10)\n",
    "test.head(10)"
   ]
  },
  {
   "cell_type": "code",
   "execution_count": 5,
   "id": "3a3e1297",
   "metadata": {
    "execution": {
     "iopub.execute_input": "2022-06-14T15:14:07.200738Z",
     "iopub.status.busy": "2022-06-14T15:14:07.198609Z",
     "iopub.status.idle": "2022-06-14T15:14:07.205636Z",
     "shell.execute_reply": "2022-06-14T15:14:07.206359Z",
     "shell.execute_reply.started": "2022-06-08T12:55:25.1648Z"
    },
    "papermill": {
     "duration": 0.14029,
     "end_time": "2022-06-14T15:14:07.206614",
     "exception": false,
     "start_time": "2022-06-14T15:14:07.066324",
     "status": "completed"
    },
    "tags": []
   },
   "outputs": [
    {
     "name": "stdout",
     "output_type": "stream",
     "text": [
      "Rows: 7613, Columns: 5 in the training data.\n",
      "Rows: 3263, Columns: 4 in the test data.\n"
     ]
    }
   ],
   "source": [
    "print(f'Rows: {tweets.shape[0]}, Columns: {tweets.shape[1]} in the training data.')\n",
    "print(f'Rows: {test.shape[0]}, Columns: {test.shape[1]} in the test data.')"
   ]
  },
  {
   "cell_type": "markdown",
   "id": "75d5178b",
   "metadata": {
    "papermill": {
     "duration": 0.174384,
     "end_time": "2022-06-14T15:14:07.567187",
     "exception": false,
     "start_time": "2022-06-14T15:14:07.392803",
     "status": "completed"
    },
    "tags": []
   },
   "source": [
    "So we can see that the test data is missing the target column, but our training data includes this. So the end result is to predict the target column for the test data. "
   ]
  },
  {
   "cell_type": "code",
   "execution_count": 6,
   "id": "9094fc01",
   "metadata": {
    "execution": {
     "iopub.execute_input": "2022-06-14T15:14:07.969983Z",
     "iopub.status.busy": "2022-06-14T15:14:07.969019Z",
     "iopub.status.idle": "2022-06-14T15:14:08.304646Z",
     "shell.execute_reply": "2022-06-14T15:14:08.305505Z",
     "shell.execute_reply.started": "2022-06-08T12:55:25.173274Z"
    },
    "papermill": {
     "duration": 0.551513,
     "end_time": "2022-06-14T15:14:08.305693",
     "exception": false,
     "start_time": "2022-06-14T15:14:07.754180",
     "status": "completed"
    },
    "tags": []
   },
   "outputs": [
    {
     "data": {
      "text/plain": [
       "<AxesSubplot:>"
      ]
     },
     "execution_count": 6,
     "metadata": {},
     "output_type": "execute_result"
    },
    {
     "data": {
      "image/png": "[encoded data removed]",
      "text/plain": [
       "<Figure size 432x288 with 1 Axes>"
      ]
     },
     "metadata": {
      "needs_background": "light"
     },
     "output_type": "display_data"
    }
   ],
   "source": [
    "# Lets see what the target looks like \n",
    "tweets.describe()\n",
    "tweets.target.value_counts().plot(kind = 'bar')"
   ]
  },
  {
   "cell_type": "markdown",
   "id": "9247d20b",
   "metadata": {
    "papermill": {
     "duration": 0.107504,
     "end_time": "2022-06-14T15:14:08.527682",
     "exception": false,
     "start_time": "2022-06-14T15:14:08.420178",
     "status": "completed"
    },
    "tags": []
   },
   "source": [
    "There are more tweets with no mention of disaster than tweets with a disaster. This is known as a class imbalance, machine learning models work best when the outcome classes are about equal. It isn't a huge difference so maybe we can play about with reducing this imbalance later if we don't get the results we are hoping for. We will consider a range of measures when trying to determine the performance of the models as accuracy can be flawed when there is a class imbalance. "
   ]
  },
  {
   "cell_type": "code",
   "execution_count": 7,
   "id": "eeef1ec5",
   "metadata": {
    "execution": {
     "iopub.execute_input": "2022-06-14T15:14:08.747809Z",
     "iopub.status.busy": "2022-06-14T15:14:08.746762Z",
     "iopub.status.idle": "2022-06-14T15:14:08.752835Z",
     "shell.execute_reply": "2022-06-14T15:14:08.753287Z",
     "shell.execute_reply.started": "2022-06-08T12:55:25.419575Z"
    },
    "papermill": {
     "duration": 0.120218,
     "end_time": "2022-06-14T15:14:08.753481",
     "exception": false,
     "start_time": "2022-06-14T15:14:08.633263",
     "status": "completed"
    },
    "tags": []
   },
   "outputs": [
    {
     "data": {
      "text/plain": [
       "'Our Deeds are the Reason of this #earthquake May ALLAH Forgive us all'"
      ]
     },
     "execution_count": 7,
     "metadata": {},
     "output_type": "execute_result"
    }
   ],
   "source": [
    "tweets['text'][0]"
   ]
  },
  {
   "cell_type": "markdown",
   "id": "0583d9cd",
   "metadata": {
    "papermill": {
     "duration": 0.108509,
     "end_time": "2022-06-14T15:14:08.971451",
     "exception": false,
     "start_time": "2022-06-14T15:14:08.862942",
     "status": "completed"
    },
    "tags": []
   },
   "source": [
    "# Data Cleaning \n",
    "\n",
    "The next step should be to clean the data and make it as usable as possible. I will first make a copy of the data just to be on the safe side."
   ]
  },
  {
   "cell_type": "code",
   "execution_count": 8,
   "id": "41d9e09d",
   "metadata": {
    "execution": {
     "iopub.execute_input": "2022-06-14T15:14:09.193657Z",
     "iopub.status.busy": "2022-06-14T15:14:09.192670Z",
     "iopub.status.idle": "2022-06-14T15:14:09.207314Z",
     "shell.execute_reply": "2022-06-14T15:14:09.207818Z",
     "shell.execute_reply.started": "2022-06-08T12:55:25.433829Z"
    },
    "papermill": {
     "duration": 0.127091,
     "end_time": "2022-06-14T15:14:09.207990",
     "exception": false,
     "start_time": "2022-06-14T15:14:09.080899",
     "status": "completed"
    },
    "tags": []
   },
   "outputs": [
    {
     "data": {
      "text/html": [
       "<div>\n",
       "<style scoped>\n",
       "    .dataframe tbody tr th:only-of-type {\n",
       "        vertical-align: middle;\n",
       "    }\n",
       "\n",
       "    .dataframe tbody tr th {\n",
       "        vertical-align: top;\n",
       "    }\n",
       "\n",
       "    .dataframe thead th {\n",
       "        text-align: right;\n",
       "    }\n",
       "</style>\n",
       "<table border=\"1\" class=\"dataframe\">\n",
       "  <thead>\n",
       "    <tr style=\"text-align: right;\">\n",
       "      <th></th>\n",
       "      <th>id</th>\n",
       "      <th>keyword</th>\n",
       "      <th>location</th>\n",
       "      <th>text</th>\n",
       "      <th>target</th>\n",
       "    </tr>\n",
       "  </thead>\n",
       "  <tbody>\n",
       "    <tr>\n",
       "      <th>0</th>\n",
       "      <td>1</td>\n",
       "      <td>NaN</td>\n",
       "      <td>NaN</td>\n",
       "      <td>Our Deeds are the Reason of this #earthquake M...</td>\n",
       "      <td>1.0</td>\n",
       "    </tr>\n",
       "    <tr>\n",
       "      <th>1</th>\n",
       "      <td>4</td>\n",
       "      <td>NaN</td>\n",
       "      <td>NaN</td>\n",
       "      <td>Forest fire near La Ronge Sask. Canada</td>\n",
       "      <td>1.0</td>\n",
       "    </tr>\n",
       "    <tr>\n",
       "      <th>2</th>\n",
       "      <td>5</td>\n",
       "      <td>NaN</td>\n",
       "      <td>NaN</td>\n",
       "      <td>All residents asked to 'shelter in place' are ...</td>\n",
       "      <td>1.0</td>\n",
       "    </tr>\n",
       "    <tr>\n",
       "      <th>3</th>\n",
       "      <td>6</td>\n",
       "      <td>NaN</td>\n",
       "      <td>NaN</td>\n",
       "      <td>13,000 people receive #wildfires evacuation or...</td>\n",
       "      <td>1.0</td>\n",
       "    </tr>\n",
       "    <tr>\n",
       "      <th>4</th>\n",
       "      <td>7</td>\n",
       "      <td>NaN</td>\n",
       "      <td>NaN</td>\n",
       "      <td>Just got sent this photo from Ruby #Alaska as ...</td>\n",
       "      <td>1.0</td>\n",
       "    </tr>\n",
       "  </tbody>\n",
       "</table>\n",
       "</div>"
      ],
      "text/plain": [
       "   id keyword location                                               text  \\\n",
       "0   1     NaN      NaN  Our Deeds are the Reason of this #earthquake M...   \n",
       "1   4     NaN      NaN             Forest fire near La Ronge Sask. Canada   \n",
       "2   5     NaN      NaN  All residents asked to 'shelter in place' are ...   \n",
       "3   6     NaN      NaN  13,000 people receive #wildfires evacuation or...   \n",
       "4   7     NaN      NaN  Just got sent this photo from Ruby #Alaska as ...   \n",
       "\n",
       "   target  \n",
       "0     1.0  \n",
       "1     1.0  \n",
       "2     1.0  \n",
       "3     1.0  \n",
       "4     1.0  "
      ]
     },
     "execution_count": 8,
     "metadata": {},
     "output_type": "execute_result"
    }
   ],
   "source": [
    "# Combine both test and train data into a new df for cleaning \n",
    "df = pd.concat([tweets, test])\n",
    "df.head(5)"
   ]
  },
  {
   "cell_type": "markdown",
   "id": "56a39de0",
   "metadata": {
    "papermill": {
     "duration": 0.10735,
     "end_time": "2022-06-14T15:14:09.425727",
     "exception": false,
     "start_time": "2022-06-14T15:14:09.318377",
     "status": "completed"
    },
    "tags": []
   },
   "source": [
    "Hashtags are a common feature of many tweets and are often used inline, so the symbols should be stripped along with any other special characters. "
   ]
  },
  {
   "cell_type": "code",
   "execution_count": 9,
   "id": "c89fea75",
   "metadata": {
    "execution": {
     "iopub.execute_input": "2022-06-14T15:14:09.646515Z",
     "iopub.status.busy": "2022-06-14T15:14:09.645542Z",
     "iopub.status.idle": "2022-06-14T15:14:09.649309Z",
     "shell.execute_reply": "2022-06-14T15:14:09.649875Z",
     "shell.execute_reply.started": "2022-06-08T12:55:25.452366Z"
    },
    "papermill": {
     "duration": 0.11539,
     "end_time": "2022-06-14T15:14:09.650067",
     "exception": false,
     "start_time": "2022-06-14T15:14:09.534677",
     "status": "completed"
    },
    "tags": []
   },
   "outputs": [],
   "source": [
    "test = \"[This is just to test] somerandom@text.totest, https://maybe.the/tweet/contains.alink<br>😔, I am a #bad #person corevt the word?\""
   ]
  },
  {
   "cell_type": "markdown",
   "id": "9007496a",
   "metadata": {
    "papermill": {
     "duration": 0.143261,
     "end_time": "2022-06-14T15:14:09.927260",
     "exception": false,
     "start_time": "2022-06-14T15:14:09.783999",
     "status": "completed"
    },
    "tags": []
   },
   "source": [
    "# Regex\n",
    "I really don't like how intimidating regex looks and sometimes it can be a little bit of a pain to use, but its perfecct for what we want to do in our data cleaning steps. I took the long steps to writing this by running them in this notebook on a test string to see the outcome, since writing this set of functions I have found this really handy website that helps you figure out what is going on, its also the first result if you google regex debugger. https://regex101.com/ \n",
    "\n",
    "# Data Cleaning Functions in more Detail\n",
    "It should be pretty self explanatory what is happening in the below functions but if this is your first look at NLP let's touch on a couple of things. \n",
    "\n",
    "Beautiful Soup - it is a really helpful libarary that let's you grab data from HTML and XML files, you can do things like prettify your documents, grab specific sections, in this case I am using it to grab all of the text regardless of if it is a title or body or any other formatting and leave behind all of the tags so that we just take the usable text. Now I don't use twitter so I don't know how likely this is to occur in our dataset so better to clean it out just in case! https://www.crummy.com/software/BeautifulSoup/bs4/doc/\n",
    "\n",
    "Spellchecker - I'm not going to manually spellcheck 10,000 tweets, no one has time for that. This is the pyspellchecker library, it will save you so much time! It uses the Levenshtein distance algorithm to determine if a word has a spelling error. Simply put the algorithm looks at how many single characters in a string need to be changed to make it into another word. If it is few and one word exists in the dictionary and the other doesn't, it will change the word to the one in the dictionary, if it is many characters difference then it will leave it alone.  This step isn't necassary, this is one of the really time consuming steps too, while it is running YOU CANNOT SAVE YOUR NOTEBOOK so yeet it into an ipynb or py file too!\n",
    "\n",
    "No one is making you run the spellchecking, but you really should! It will eliminate duplicate words created by spelling errors, and it will allow you to get improved accuracy in your results too. \n",
    "\n",
    "Unless you are doing a degree in english, if you are new to NLP projects, you may of not heard of lemmatization and stop words. <br>\n",
    "\n",
    "Lemmatization or Lemmatisation if you are from the UK like me, is a process of grouping words together that share the same 'lemma' which is their dictionary form. This is so they can be analysed as a single item. Now if you are checking what your data is looking like at various stages in this process, it may appear to make less sense from a gramatical perspective but the underlying meaning of the text remains.  This isn't an entirely necassary step and there are other approaches you can take to get similar results such as stemming, the difference is that stemming uses the 'stem' of the word which is more objective, it removes the prefixes or suffixes, where as lemmatization looks at the context of the word, so it needs a really detailed dictionary which is what the 'sp = spacy.load('en_core_web_sm');' section of that function is bringing in. \n",
    "\n",
    "Lemmatization has been chosen in this case to help increase the recall performance metric. \n",
    "\n",
    "The NLTK library is bringing us a lovely list of stop words (But you can also define them yourself if you want to be specific!), we have so many words in this data set and not all of them are needed to determine if the tweet is mentioning disaster, these are words like 'And', 'a', 'the' and such, the words that we use to add more sense and flow to what we say. For example, you could say 'I am pretty sure there was just an earthquake near Kailua-Kona, HI', removing the stopwords would give us 'pretty sure, just earthquake near Kailua-Kona, HI' which doesn't sound great but it still implies that there was an earthquake. https://www.nltk.org/book/ch02.html\n",
    "\n",
    "This removes the aspect of pointless words that only serve to make the text flow better to us having an impact on determining that a natural disaster was mentioned in the tweet. It is unlikely that more tweets that mention disaster aslo use the word 'The' for example, but if that was the case there is a chance our model later on in the notebook may use that as a determining factor which would give us pretty useless results. \n",
    "\n"
   ]
  },
  {
   "cell_type": "code",
   "execution_count": 10,
   "id": "77e35d02",
   "metadata": {
    "execution": {
     "iopub.execute_input": "2022-06-14T15:14:10.192834Z",
     "iopub.status.busy": "2022-06-14T15:14:10.192088Z",
     "iopub.status.idle": "2022-06-14T15:14:11.693076Z",
     "shell.execute_reply": "2022-06-14T15:14:11.692519Z",
     "shell.execute_reply.started": "2022-06-08T12:55:25.459628Z"
    },
    "papermill": {
     "duration": 1.652567,
     "end_time": "2022-06-14T15:14:11.693231",
     "exception": false,
     "start_time": "2022-06-14T15:14:10.040664",
     "status": "completed"
    },
    "tags": []
   },
   "outputs": [],
   "source": [
    "# Remove any links \n",
    "def remove_hyperlink(data):\n",
    "    isurl = re.compile(r'https?://\\S+|www.\\.\\S+')\n",
    "    return isurl.sub(r'', data)\n",
    "\n",
    "# Remove any special characters\n",
    "def remove_special_chars(data):\n",
    "    data = re.sub('[,\\.!:;()\"]', ' ', data)\n",
    "    data = re.sub('[^a-zA-Z\"]', ' ', data)\n",
    "    data = re.sub('\\[[^]]*\\]', ' ', data)\n",
    "    return data\n",
    "\n",
    "# Make Lower Case\n",
    "def make_lower(data):\n",
    "    data = data.str.lower()\n",
    "    return data\n",
    "\n",
    "# Remove any HTML\n",
    "def remove_html(data):\n",
    "    soup = BeautifulSoup(data, 'html.parser')\n",
    "    return soup.get_text()\n",
    "\n",
    "# Remove any Emojis\n",
    "def remove_emojis(data):\n",
    "    emojis = re.compile(\"[\"\n",
    "        u\"\\U0001F600-\\U0001F64F\"  # emoticons\n",
    "        u\"\\U0001F300-\\U0001F5FF\"  # symbols & pictographs\n",
    "        u\"\\U0001F680-\\U0001F6FF\"  # transport & map symbols\n",
    "        u\"\\U0001F1E0-\\U0001F1FF\"  # flags (iOS)\n",
    "                           \"]+\", flags = re.UNICODE)\n",
    "    return emojis.sub(r'',data)\n",
    "\n",
    "# Remove double spaces\n",
    "def remove_doublespaces(data):\n",
    "    data = re.sub('  ', ' ', data)\n",
    "    data = re.sub('  ', ' ', data)\n",
    "    return data\n",
    "\n",
    "# Correct Mispellings \n",
    "spell = SpellChecker()\n",
    "def correct_spelling(data):\n",
    "    corrected = []\n",
    "    mispellings = spell.unknown(data.split())\n",
    "    for word in data.split():\n",
    "        if word in mispellings:\n",
    "            corrected.append(spell.correction(word))\n",
    "        else:\n",
    "            corrected.append(word)\n",
    "    return \" \".join(corrected)\n",
    "\n",
    "\n",
    "stopw = set(stopwords.words('english'))\n",
    "# Tokenize and remove stopwords \n",
    "def filter_on_stopwords(data):\n",
    "    word_tokens = word_tokenize(data)\n",
    "    no_stopword_tokens = [token for token in word_tokens if token not in stopw]\n",
    "    data = ' '.join(no_stopword_tokens)\n",
    "    return data\n",
    "\n",
    "sp = spacy.load('en_core_web_sm')\n",
    "def lemmatize_words(data):\n",
    "    doc = sp(data)   \n",
    "    data = ' '.join([token.lemma_ for token in doc])\n",
    "    return data"
   ]
  },
  {
   "cell_type": "code",
   "execution_count": 11,
   "id": "ff631f91",
   "metadata": {
    "execution": {
     "iopub.execute_input": "2022-06-14T15:14:11.937394Z",
     "iopub.status.busy": "2022-06-14T15:14:11.936689Z",
     "iopub.status.idle": "2022-06-14T15:14:12.557422Z",
     "shell.execute_reply": "2022-06-14T15:14:12.556807Z",
     "shell.execute_reply.started": "2022-06-08T12:55:26.398652Z"
    },
    "papermill": {
     "duration": 0.747908,
     "end_time": "2022-06-14T15:14:12.557578",
     "exception": false,
     "start_time": "2022-06-14T15:14:11.809670",
     "status": "completed"
    },
    "tags": []
   },
   "outputs": [
    {
     "data": {
      "text/plain": [
       "'This is just to test somerandom text totes I am a bad person correct the word'"
      ]
     },
     "execution_count": 11,
     "metadata": {},
     "output_type": "execute_result"
    }
   ],
   "source": [
    "# Call these functions \n",
    "test = remove_hyperlink(test)\n",
    "test = remove_special_chars(test)\n",
    "#test = make_lower(test) #str has no attrib str, but the actual data is in a series, so the funct works for the actual data\n",
    "test = remove_html(test)\n",
    "test = remove_emojis(test)\n",
    "test = remove_doublespaces(test)\n",
    "test = correct_spelling(test)\n",
    "# Outputs the re.subbed and cleansed test string \n",
    "test"
   ]
  },
  {
   "cell_type": "markdown",
   "id": "1235c713",
   "metadata": {
    "papermill": {
     "duration": 0.10751,
     "end_time": "2022-06-14T15:14:12.772503",
     "exception": false,
     "start_time": "2022-06-14T15:14:12.664993",
     "status": "completed"
    },
    "tags": []
   },
   "source": [
    "# Apply the data cleaning functions to the text"
   ]
  },
  {
   "cell_type": "code",
   "execution_count": 12,
   "id": "e1569db5",
   "metadata": {
    "execution": {
     "iopub.execute_input": "2022-06-14T15:14:12.991253Z",
     "iopub.status.busy": "2022-06-14T15:14:12.990563Z",
     "iopub.status.idle": "2022-06-14T16:06:34.373100Z",
     "shell.execute_reply": "2022-06-14T16:06:34.373698Z",
     "shell.execute_reply.started": "2022-06-08T12:55:26.86623Z"
    },
    "papermill": {
     "duration": 3141.493946,
     "end_time": "2022-06-14T16:06:34.373985",
     "exception": false,
     "start_time": "2022-06-14T15:14:12.880039",
     "status": "completed"
    },
    "tags": []
   },
   "outputs": [
    {
     "data": {
      "text/html": [
       "<div>\n",
       "<style scoped>\n",
       "    .dataframe tbody tr th:only-of-type {\n",
       "        vertical-align: middle;\n",
       "    }\n",
       "\n",
       "    .dataframe tbody tr th {\n",
       "        vertical-align: top;\n",
       "    }\n",
       "\n",
       "    .dataframe thead th {\n",
       "        text-align: right;\n",
       "    }\n",
       "</style>\n",
       "<table border=\"1\" class=\"dataframe\">\n",
       "  <thead>\n",
       "    <tr style=\"text-align: right;\">\n",
       "      <th></th>\n",
       "      <th>id</th>\n",
       "      <th>keyword</th>\n",
       "      <th>location</th>\n",
       "      <th>text</th>\n",
       "      <th>target</th>\n",
       "    </tr>\n",
       "  </thead>\n",
       "  <tbody>\n",
       "    <tr>\n",
       "      <th>0</th>\n",
       "      <td>1</td>\n",
       "      <td>NaN</td>\n",
       "      <td>NaN</td>\n",
       "      <td>deeds reason earthquake may allah forgive -PRON-</td>\n",
       "      <td>1.0</td>\n",
       "    </tr>\n",
       "    <tr>\n",
       "      <th>1</th>\n",
       "      <td>4</td>\n",
       "      <td>NaN</td>\n",
       "      <td>NaN</td>\n",
       "      <td>forest fire near la range ask canada</td>\n",
       "      <td>1.0</td>\n",
       "    </tr>\n",
       "    <tr>\n",
       "      <th>2</th>\n",
       "      <td>5</td>\n",
       "      <td>NaN</td>\n",
       "      <td>NaN</td>\n",
       "      <td>resident ask shelter place notify officer evac...</td>\n",
       "      <td>1.0</td>\n",
       "    </tr>\n",
       "    <tr>\n",
       "      <th>3</th>\n",
       "      <td>6</td>\n",
       "      <td>NaN</td>\n",
       "      <td>NaN</td>\n",
       "      <td>people receive wildfire evacuation order calif...</td>\n",
       "      <td>1.0</td>\n",
       "    </tr>\n",
       "    <tr>\n",
       "      <th>4</th>\n",
       "      <td>7</td>\n",
       "      <td>NaN</td>\n",
       "      <td>NaN</td>\n",
       "      <td>get send photo ruby alaska smoke wildfire pour...</td>\n",
       "      <td>1.0</td>\n",
       "    </tr>\n",
       "  </tbody>\n",
       "</table>\n",
       "</div>"
      ],
      "text/plain": [
       "   id keyword location                                               text  \\\n",
       "0   1     NaN      NaN   deeds reason earthquake may allah forgive -PRON-   \n",
       "1   4     NaN      NaN               forest fire near la range ask canada   \n",
       "2   5     NaN      NaN  resident ask shelter place notify officer evac...   \n",
       "3   6     NaN      NaN  people receive wildfire evacuation order calif...   \n",
       "4   7     NaN      NaN  get send photo ruby alaska smoke wildfire pour...   \n",
       "\n",
       "   target  \n",
       "0     1.0  \n",
       "1     1.0  \n",
       "2     1.0  \n",
       "3     1.0  \n",
       "4     1.0  "
      ]
     },
     "execution_count": 12,
     "metadata": {},
     "output_type": "execute_result"
    }
   ],
   "source": [
    "# Now we know that the data cleanining functions work as expected we can apply them to our combibned data\n",
    "# This can take a really really long time, like up to hours, so be patient! Spellchecking and lemmatizing this many individual words and things that are hardly words is slow :'(\n",
    "df['text'] = df['text'].apply(remove_hyperlink)\n",
    "df['text'] = df['text'].apply(remove_special_chars)\n",
    "df['text'] = make_lower(df['text'])\n",
    "df['text'] = df['text'].apply(remove_html)\n",
    "df['text'] = df['text'].apply(remove_emojis)\n",
    "df['text'] = df['text'].apply(remove_doublespaces)\n",
    "df['text'] = df['text'].apply(correct_spelling)\n",
    "df['text'] = df['text'].apply(filter_on_stopwords)\n",
    "df['text'] = df['text'].apply(lemmatize_words)\n",
    "df.head(5)"
   ]
  },
  {
   "cell_type": "markdown",
   "id": "ddb5042c",
   "metadata": {
    "papermill": {
     "duration": 0.107105,
     "end_time": "2022-06-14T16:06:34.589156",
     "exception": false,
     "start_time": "2022-06-14T16:06:34.482051",
     "status": "completed"
    },
    "tags": []
   },
   "source": [
    "## Data Exploration or to be fancy this is our EDA <br>\n",
    "\n",
    "Now that the data has been cleaned and the stopwords have been removed, we can do a deeper exploration of the data and see what it looks like and a little bit of an analysis on it, just to see if we have any really obvious patterns that stand out, then we can expect to see our results mirroring this somewhat. "
   ]
  },
  {
   "cell_type": "code",
   "execution_count": 13,
   "id": "5d7de52c",
   "metadata": {
    "execution": {
     "iopub.execute_input": "2022-06-14T16:06:34.809826Z",
     "iopub.status.busy": "2022-06-14T16:06:34.809095Z",
     "iopub.status.idle": "2022-06-14T16:06:35.446044Z",
     "shell.execute_reply": "2022-06-14T16:06:35.445365Z",
     "shell.execute_reply.started": "2022-06-08T13:36:13.183556Z"
    },
    "papermill": {
     "duration": 0.748914,
     "end_time": "2022-06-14T16:06:35.446189",
     "exception": false,
     "start_time": "2022-06-14T16:06:34.697275",
     "status": "completed"
    },
    "tags": []
   },
   "outputs": [
    {
     "data": {
      "image/png": "[encoded data removed]",
      "text/plain": [
       "<Figure size 1440x720 with 2 Axes>"
      ]
     },
     "metadata": {
      "needs_background": "light"
     },
     "output_type": "display_data"
    }
   ],
   "source": [
    "# Number of words in tweets about disaster\n",
    "len_of_tweet = df[df['target'] == 1]['text'].str.split().map(lambda x: len(x))\n",
    "fig, (ax1, ax2) = plt.subplots(1, 2, figsize = (20, 10))\n",
    "ax1.hist(len_of_tweet, color = 'green')\n",
    "ax1.set_title('No of Words in Disaster Tweets')\n",
    "len_of_tweet = df[df['target'] == 0]['text'].str.split().map(lambda x: len(x))\n",
    "ax2.hist(len_of_tweet, color = 'red')\n",
    "ax2.set_title('No of Words in Not Disaster Tweets')\n",
    "plt.show()\n"
   ]
  },
  {
   "cell_type": "markdown",
   "id": "b5ef3909",
   "metadata": {
    "papermill": {
     "duration": 0.110623,
     "end_time": "2022-06-14T16:06:35.669857",
     "exception": false,
     "start_time": "2022-06-14T16:06:35.559234",
     "status": "completed"
    },
    "tags": []
   },
   "source": [
    "Looks like tweets that mention disaster seem to have slightly less words, with number of tweets on the y and number of words on the x"
   ]
  },
  {
   "cell_type": "code",
   "execution_count": 14,
   "id": "1058e2f8",
   "metadata": {
    "execution": {
     "iopub.execute_input": "2022-06-14T16:06:35.908015Z",
     "iopub.status.busy": "2022-06-14T16:06:35.907252Z",
     "iopub.status.idle": "2022-06-14T16:06:36.553072Z",
     "shell.execute_reply": "2022-06-14T16:06:36.553621Z",
     "shell.execute_reply.started": "2022-06-08T13:36:13.874946Z"
    },
    "papermill": {
     "duration": 0.759001,
     "end_time": "2022-06-14T16:06:36.553803",
     "exception": false,
     "start_time": "2022-06-14T16:06:35.794802",
     "status": "completed"
    },
    "tags": []
   },
   "outputs": [
    {
     "data": {
      "text/plain": [
       "Text(0.5, 1.0, 'Most Common Words in Tweets about Disaster')"
      ]
     },
     "execution_count": 14,
     "metadata": {},
     "output_type": "execute_result"
    },
    {
     "data": {
      "image/png": "[encoded data removed]",
      "text/plain": [
       "<Figure size 1440x720 with 2 Axes>"
      ]
     },
     "metadata": {
      "needs_background": "light"
     },
     "output_type": "display_data"
    }
   ],
   "source": [
    "# Get the frequency distribution of the most popular words\n",
    "words = [word for word in pd.Series(' '.join(df['text']).split())]\n",
    "most_used_words = FreqDist(words).most_common(10)\n",
    "most_used_words = pd.Series(dict(most_used_words))\n",
    "#Plot the most commonly used words\n",
    "fig, (ax1, ax2) = plt.subplots(1, 2, figsize=(20,10))\n",
    "sns.barplot(x = most_used_words.index, y = most_used_words.values, ax=ax1)\n",
    "\n",
    "#Get the frequency distribution where tweets are about disaster\n",
    "disaster_tweets = df[df['target']==1]['text']\n",
    "disaster_words = [word.split()[0] for word in disaster_tweets]\n",
    "most_used_disaster_words = FreqDist(disaster_words).most_common(10)\n",
    "most_used_disaster_words = pd.Series(dict(most_used_disaster_words))\n",
    "sns.barplot(x = most_used_disaster_words.index, y = most_used_disaster_words.values, ax=ax2)\n",
    "ax1.set_title('Most Common Words in All Tweets')\n",
    "ax2.set_title('Most Common Words in Tweets about Disaster')"
   ]
  },
  {
   "cell_type": "markdown",
   "id": "965a3a20",
   "metadata": {
    "papermill": {
     "duration": 0.111904,
     "end_time": "2022-06-14T16:06:36.790839",
     "exception": false,
     "start_time": "2022-06-14T16:06:36.678935",
     "status": "completed"
    },
    "tags": []
   },
   "source": [
    " Note: -PRON- is replacing any pronoun, I am not sure which library is causing this, likely the spellcheck or lemmatization, people's specific pronouns shouldn't make an impact on this, so I won't worry about this for now."
   ]
  },
  {
   "cell_type": "code",
   "execution_count": 15,
   "id": "cef4d706",
   "metadata": {
    "execution": {
     "iopub.execute_input": "2022-06-14T16:06:37.021349Z",
     "iopub.status.busy": "2022-06-14T16:06:37.020683Z",
     "iopub.status.idle": "2022-06-14T16:06:42.625350Z",
     "shell.execute_reply": "2022-06-14T16:06:42.624841Z",
     "shell.execute_reply.started": "2022-06-08T13:36:14.474012Z"
    },
    "papermill": {
     "duration": 5.722107,
     "end_time": "2022-06-14T16:06:42.625510",
     "exception": false,
     "start_time": "2022-06-14T16:06:36.903403",
     "status": "completed"
    },
    "tags": []
   },
   "outputs": [
    {
     "name": "stdout",
     "output_type": "stream",
     "text": [
      "Number of Uniques Words: 15833\n"
     ]
    }
   ],
   "source": [
    "# Number of unique words\n",
    "unique_words = []\n",
    "for word in words:\n",
    "    if not word in unique_words:\n",
    "        unique_words.append(word)\n",
    "\n",
    "print(f'Number of Uniques Words: {len(unique_words)}')"
   ]
  },
  {
   "cell_type": "markdown",
   "id": "0e3eac9d",
   "metadata": {
    "papermill": {
     "duration": 0.108988,
     "end_time": "2022-06-14T16:06:42.844322",
     "exception": false,
     "start_time": "2022-06-14T16:06:42.735334",
     "status": "completed"
    },
    "tags": []
   },
   "source": [
    "## Fun Fact\n",
    "It took 3143.782 seconds to clean the data set, including spellchecking and lemmatizing 15,833 unique words, thats 53-ish mins!"
   ]
  },
  {
   "cell_type": "markdown",
   "id": "c90fe460",
   "metadata": {
    "papermill": {
     "duration": 0.108921,
     "end_time": "2022-06-14T16:06:43.063701",
     "exception": false,
     "start_time": "2022-06-14T16:06:42.954780",
     "status": "completed"
    },
    "tags": []
   },
   "source": [
    "I have never tried a bag of words before or LSA, so let's try it out. \n",
    "Code from: https://www.kaggle.com/vbmokin/nlp-eda-bag-of-words-tf-idf-glove-bert"
   ]
  },
  {
   "cell_type": "code",
   "execution_count": 16,
   "id": "dfa8c83d",
   "metadata": {
    "execution": {
     "iopub.execute_input": "2022-06-14T16:06:43.359455Z",
     "iopub.status.busy": "2022-06-14T16:06:43.358803Z",
     "iopub.status.idle": "2022-06-14T16:06:43.572964Z",
     "shell.execute_reply": "2022-06-14T16:06:43.572282Z",
     "shell.execute_reply.started": "2022-06-08T13:36:19.646272Z"
    },
    "papermill": {
     "duration": 0.324973,
     "end_time": "2022-06-14T16:06:43.573108",
     "exception": false,
     "start_time": "2022-06-14T16:06:43.248135",
     "status": "completed"
    },
    "tags": []
   },
   "outputs": [],
   "source": [
    "# Bag of Words\n",
    "def _count_vectorizer(data):\n",
    "    count_vectorizer = CountVectorizer()\n",
    "    emb = count_vectorizer.fit_transform(data)\n",
    "    return emb, count_vectorizer\n",
    "\n",
    "list_corpus = df['text'].tolist()\n",
    "list_labels = df['target'].tolist()\n",
    "\n",
    "x_train, x_test, y_train, y_test = train_test_split(list_corpus, list_labels, test_size = 0.3, random_state = 0)\n",
    "\n",
    "x_train_counts, count_vectorizer = _count_vectorizer(x_train)\n",
    "x_test_counts = count_vectorizer.transform(x_test)"
   ]
  },
  {
   "cell_type": "markdown",
   "id": "060cd5cb",
   "metadata": {
    "papermill": {
     "duration": 0.109058,
     "end_time": "2022-06-14T16:06:43.794397",
     "exception": false,
     "start_time": "2022-06-14T16:06:43.685339",
     "status": "completed"
    },
    "tags": []
   },
   "source": [
    "## Latent Semantic Analysis\n",
    "\n",
    "This is where relationships in the context of the documents are analysed. It assumes that words that have similar meanings will appear close together in a block of text. \n"
   ]
  },
  {
   "cell_type": "code",
   "execution_count": 17,
   "id": "4e674974",
   "metadata": {
    "execution": {
     "iopub.execute_input": "2022-06-14T16:06:44.018580Z",
     "iopub.status.busy": "2022-06-14T16:06:44.017882Z",
     "iopub.status.idle": "2022-06-14T16:06:44.866107Z",
     "shell.execute_reply": "2022-06-14T16:06:44.866631Z",
     "shell.execute_reply.started": "2022-06-08T13:36:19.813928Z"
    },
    "papermill": {
     "duration": 0.963069,
     "end_time": "2022-06-14T16:06:44.866804",
     "exception": false,
     "start_time": "2022-06-14T16:06:43.903735",
     "status": "completed"
    },
    "tags": []
   },
   "outputs": [
    {
     "data": {
      "text/plain": [
       "<function matplotlib.pyplot.show(close=None, block=None)>"
      ]
     },
     "execution_count": 17,
     "metadata": {},
     "output_type": "execute_result"
    },
    {
     "data": {
      "image/png": "[encoded data removed]",
      "text/plain": [
       "<Figure size 720x720 with 1 Axes>"
      ]
     },
     "metadata": {
      "needs_background": "light"
     },
     "output_type": "display_data"
    }
   ],
   "source": [
    "def plot_LSA(data, labels, savepath ='PCA.csv', plot = True):\n",
    "    lsa = TruncatedSVD(n_components=2)\n",
    "    lsa.fit(data)\n",
    "\n",
    "    lsa_scores = lsa.transform(data)\n",
    "\n",
    "    color_mapper = {label:idx for idx, label in enumerate(set(labels))}\n",
    "    color_column = [color_mapper[label] for label in labels]\n",
    "    colors = ['green','red']\n",
    "\n",
    "    if plot:\n",
    "        plt.scatter(lsa_scores[:,0], lsa_scores[:,1], s = 8, alpha = .8, c = labels, cmap = matplotlib.colors.ListedColormap(colors))\n",
    "        green_patch = matplotlib.patches.Patch(color = 'green', label = 'Not Mentioning Disaster')\n",
    "        red_patch = matplotlib.patches.Patch(color = 'red', label = 'Are Mentioning Disaster')\n",
    "        plt.legend(handles = [green_patch, red_patch], prop = {'size':30})\n",
    "\n",
    "fig = plt.figure(figsize=(10,10))\n",
    "plot_LSA(x_train_counts, y_train)\n",
    "plt.show"
   ]
  },
  {
   "cell_type": "markdown",
   "id": "521d8226",
   "metadata": {
    "papermill": {
     "duration": 0.115269,
     "end_time": "2022-06-14T16:06:45.102533",
     "exception": false,
     "start_time": "2022-06-14T16:06:44.987264",
     "status": "completed"
    },
    "tags": []
   },
   "source": [
    "# Term Frequency - Inverse Document Frequency (TF-IDF)\n",
    "TF-IDF produces a statistic that reflects how important a word is to a document. It increases proportinally based on the number of times a word appears in the document. This kind of thing is how search engines determine how relavent a search result is to your query. "
   ]
  },
  {
   "cell_type": "code",
   "execution_count": 18,
   "id": "a0855be9",
   "metadata": {
    "execution": {
     "iopub.execute_input": "2022-06-14T16:06:45.332115Z",
     "iopub.status.busy": "2022-06-14T16:06:45.331128Z",
     "iopub.status.idle": "2022-06-14T16:06:46.676266Z",
     "shell.execute_reply": "2022-06-14T16:06:46.677230Z",
     "shell.execute_reply.started": "2022-06-08T13:36:20.623976Z"
    },
    "papermill": {
     "duration": 1.46151,
     "end_time": "2022-06-14T16:06:46.677491",
     "exception": false,
     "start_time": "2022-06-14T16:06:45.215981",
     "status": "completed"
    },
    "tags": []
   },
   "outputs": [
    {
     "data": {
      "text/plain": [
       "<function matplotlib.pyplot.show(close=None, block=None)>"
      ]
     },
     "execution_count": 18,
     "metadata": {},
     "output_type": "execute_result"
    },
    {
     "data": {
      "image/png": "[encoded data removed]",
      "text/plain": [
       "<Figure size 720x720 with 1 Axes>"
      ]
     },
     "metadata": {
      "needs_background": "light"
     },
     "output_type": "display_data"
    }
   ],
   "source": [
    "# See how TF IDF looks\n",
    "def tfidf(data):\n",
    "    tfidf_vectorizer = TfidfVectorizer()\n",
    "    t = tfidf_vectorizer.fit_transform(data)\n",
    "    return t, tfidf_vectorizer\n",
    "\n",
    "x_train_tfidf, tfidf_vectorizer = tfidf(x_train)\n",
    "x_test_tfidf = tfidf_vectorizer.transform(x_test)\n",
    "\n",
    "fig = plt.figure(figsize=(10, 10))\n",
    "plot_LSA(x_train_tfidf, y_train)\n",
    "plt.show"
   ]
  },
  {
   "cell_type": "code",
   "execution_count": 19,
   "id": "b4722a1a",
   "metadata": {
    "execution": {
     "iopub.execute_input": "2022-06-14T16:06:47.162662Z",
     "iopub.status.busy": "2022-06-14T16:06:47.161696Z",
     "iopub.status.idle": "2022-06-14T16:06:47.167033Z",
     "shell.execute_reply": "2022-06-14T16:06:47.167698Z",
     "shell.execute_reply.started": "2022-06-08T13:36:21.77594Z"
    },
    "papermill": {
     "duration": 0.123859,
     "end_time": "2022-06-14T16:06:47.167927",
     "exception": false,
     "start_time": "2022-06-14T16:06:47.044068",
     "status": "completed"
    },
    "tags": []
   },
   "outputs": [
    {
     "name": "stdout",
     "output_type": "stream",
     "text": [
      "lonewolffur control tora\n"
     ]
    }
   ],
   "source": [
    "print(x_train[2])"
   ]
  },
  {
   "cell_type": "code",
   "execution_count": null,
   "id": "5a844c75",
   "metadata": {
    "papermill": {
     "duration": 0.117388,
     "end_time": "2022-06-14T16:06:47.401856",
     "exception": false,
     "start_time": "2022-06-14T16:06:47.284468",
     "status": "completed"
    },
    "tags": []
   },
   "outputs": [],
   "source": []
  }
 ],
 "metadata": {
  "kernelspec": {
   "display_name": "Python 3",
   "language": "python",
   "name": "python3"
  },
  "language_info": {
   "codemirror_mode": {
    "name": "ipython",
    "version": 3
   },
   "file_extension": ".py",
   "mimetype": "text/x-python",
   "name": "python",
   "nbconvert_exporter": "python",
   "pygments_lexer": "ipython3",
   "version": "3.7.10"
  },
  "papermill": {
   "default_parameters": {},
   "duration": 3247.02236,
   "end_time": "2022-06-14T16:06:50.948074",
   "environment_variables": {},
   "exception": null,
   "input_path": "__notebook__.ipynb",
   "output_path": "__notebook__.ipynb",
   "parameters": {},
   "start_time": "2022-06-14T15:12:43.925714",
   "version": "2.3.3"
  }
 },
 "nbformat": 4,
 "nbformat_minor": 5
}
